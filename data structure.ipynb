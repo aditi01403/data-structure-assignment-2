{
  "nbformat": 4,
  "nbformat_minor": 0,
  "metadata": {
    "colab": {
      "provenance": []
    },
    "kernelspec": {
      "name": "python3",
      "display_name": "Python 3"
    },
    "language_info": {
      "name": "python"
    }
  },
  "cells": [
    {
      "cell_type": "markdown",
      "source": [
        "Q1. Reverse a String"
      ],
      "metadata": {
        "id": "bWMHVeph5v_L"
      }
    },
    {
      "cell_type": "code",
      "source": [
        "def reverse_string(s):\n",
        "    return s[::-1]\n",
        "\n",
        "print(reverse_string(\"hello\"))  # Output: \"olleh\""
      ],
      "metadata": {
        "colab": {
          "base_uri": "https://localhost:8080/"
        },
        "id": "UYzrSFHK51ij",
        "outputId": "e6362027-ab9c-43fa-f996-0b7cec4de738"
      },
      "execution_count": null,
      "outputs": [
        {
          "output_type": "stream",
          "name": "stdout",
          "text": [
            "olleh\n"
          ]
        }
      ]
    },
    {
      "cell_type": "markdown",
      "source": [
        "Q2. Count Number of Vowels in a String"
      ],
      "metadata": {
        "id": "Gk81My396EpO"
      }
    },
    {
      "cell_type": "code",
      "source": [
        "def count_vowels(s):\n",
        "    vowels = \"aeiouAEIOU\"\n",
        "    return sum(1 for char in s if char in vowels)\n",
        "\n",
        "print(count_vowels(\"Education\"))  # Output: 5"
      ],
      "metadata": {
        "colab": {
          "base_uri": "https://localhost:8080/"
        },
        "id": "Lhq-1meU7kxw",
        "outputId": "4bb3b258-d59e-4289-c98e-fed44bb0c316"
      },
      "execution_count": null,
      "outputs": [
        {
          "output_type": "stream",
          "name": "stdout",
          "text": [
            "5\n"
          ]
        }
      ]
    },
    {
      "cell_type": "markdown",
      "source": [
        "Q3. Check if a String is Palindrome"
      ],
      "metadata": {
        "id": "Ze1Y56AR6L0o"
      }
    },
    {
      "cell_type": "code",
      "source": [
        "def is_palindrome(s):\n",
        "    return s == s[::-1]\n",
        "\n",
        "print(is_palindrome(\"madam\"))   # True\n",
        "print(is_palindrome(\"hello\"))   # False"
      ],
      "metadata": {
        "colab": {
          "base_uri": "https://localhost:8080/"
        },
        "id": "1KtlDGnN6VRy",
        "outputId": "657086b8-caed-4308-f49a-beb2d48634ad"
      },
      "execution_count": null,
      "outputs": [
        {
          "output_type": "stream",
          "name": "stdout",
          "text": [
            "True\n",
            "False\n"
          ]
        }
      ]
    },
    {
      "cell_type": "markdown",
      "source": [
        "Q4. Check if Two Strings are Anagrams"
      ],
      "metadata": {
        "id": "D8EHxLoo6Xlj"
      }
    },
    {
      "cell_type": "code",
      "source": [
        "def are_anagrams(s1, s2):\n",
        "    return sorted(s1) == sorted(s2)\n",
        "\n",
        "print(are_anagrams(\"listen\", \"silent\"))  # True\n",
        "print(are_anagrams(\"hello\", \"world\"))    # False"
      ],
      "metadata": {
        "colab": {
          "base_uri": "https://localhost:8080/"
        },
        "id": "MbsMMuYY6YJ0",
        "outputId": "7e214148-e6c2-4717-ec07-68c35c39986c"
      },
      "execution_count": null,
      "outputs": [
        {
          "output_type": "stream",
          "name": "stdout",
          "text": [
            "True\n",
            "False\n"
          ]
        }
      ]
    },
    {
      "cell_type": "markdown",
      "source": [
        "Q5. Find All Occurrences of a Substring"
      ],
      "metadata": {
        "id": "CQWqpy4v6YU5"
      }
    },
    {
      "cell_type": "code",
      "source": [
        "def find_occurrences(text, sub):\n",
        "    indices = []\n",
        "    start = 0\n",
        "    while start < len(text):\n",
        "        index = text.find(sub, start)\n",
        "        if index == -1:\n",
        "            break\n",
        "        indices.append(index)\n",
        "        start = index + 1\n",
        "    return indices\n",
        "\n",
        "print(find_occurrences(\"banana\", \"ana\"))  # [1, 3]"
      ],
      "metadata": {
        "colab": {
          "base_uri": "https://localhost:8080/"
        },
        "id": "4oOf0EBu6cqe",
        "outputId": "c059f93e-3a2f-40e2-d0c0-f9b846fc7611"
      },
      "execution_count": null,
      "outputs": [
        {
          "output_type": "stream",
          "name": "stdout",
          "text": [
            "[1, 3]\n"
          ]
        }
      ]
    },
    {
      "cell_type": "markdown",
      "source": [
        "Q6. Basic String Compression"
      ],
      "metadata": {
        "id": "nHFKVxzt6dIi"
      }
    },
    {
      "cell_type": "code",
      "source": [
        "def compress_string(s):\n",
        "    compressed = \"\"\n",
        "    count = 1\n",
        "    for i in range(1, len(s)):\n",
        "        if s[i] == s[i - 1]:\n",
        "            count += 1\n",
        "        else:\n",
        "            compressed += s[i - 1] + str(count)\n",
        "            count = 1\n",
        "    compressed += s[-1] + str(count)\n",
        "    return compressed if len(compressed) < len(s) else s\n",
        "\n",
        "print(compress_string(\"aaabbccc\"))  # a3b2c3"
      ],
      "metadata": {
        "colab": {
          "base_uri": "https://localhost:8080/"
        },
        "id": "Kj3PKspc6jPD",
        "outputId": "c100a883-36c0-4b6d-c350-220a13b1a333"
      },
      "execution_count": null,
      "outputs": [
        {
          "output_type": "stream",
          "name": "stdout",
          "text": [
            "a3b2c3\n"
          ]
        }
      ]
    },
    {
      "cell_type": "markdown",
      "source": [
        "Q7. Check if String has All Unique Characters"
      ],
      "metadata": {
        "id": "d5WVEXCU6jeg"
      }
    },
    {
      "cell_type": "code",
      "source": [
        "def has_unique_chars(s):\n",
        "    return len(set(s)) == len(s)\n",
        "\n",
        "print(has_unique_chars(\"python\"))  # True\n",
        "print(has_unique_chars(\"hello\"))   # False"
      ],
      "metadata": {
        "colab": {
          "base_uri": "https://localhost:8080/"
        },
        "id": "DNeCaKGi6lwh",
        "outputId": "ae774d31-130b-4824-da9c-f231a060b72c"
      },
      "execution_count": null,
      "outputs": [
        {
          "output_type": "stream",
          "name": "stdout",
          "text": [
            "True\n",
            "False\n"
          ]
        }
      ]
    },
    {
      "cell_type": "markdown",
      "source": [
        "Q8. Convert String to Uppercase or Lowercase"
      ],
      "metadata": {
        "id": "_slbCN5j6qKu"
      }
    },
    {
      "cell_type": "code",
      "source": [
        "def convert_case(s, to_upper=True):\n",
        "    return s.upper() if to_upper else s.lower()\n",
        "\n",
        "print(convert_case(\"Hello World\", True))   # \"HELLO WORLD\"\n",
        "print(convert_case(\"Hello World\", False))  # \"hello world\""
      ],
      "metadata": {
        "colab": {
          "base_uri": "https://localhost:8080/"
        },
        "id": "IoY7Lfr66sUL",
        "outputId": "a136be71-b547-4b3e-9dc2-c547314fb6fe"
      },
      "execution_count": null,
      "outputs": [
        {
          "output_type": "stream",
          "name": "stdout",
          "text": [
            "HELLO WORLD\n",
            "hello world\n"
          ]
        }
      ]
    },
    {
      "cell_type": "markdown",
      "source": [
        "Q9. Count Number of Words in a String"
      ],
      "metadata": {
        "id": "fhUwekUn6urp"
      }
    },
    {
      "cell_type": "code",
      "source": [
        "def count_words(s):\n",
        "    return len(s.split())\n",
        "\n",
        "print(count_words(\"Python is fun\"))  # 3"
      ],
      "metadata": {
        "colab": {
          "base_uri": "https://localhost:8080/"
        },
        "id": "Jtt9aDc76yuV",
        "outputId": "1353f404-a0d1-4a4f-913a-9b4138362827"
      },
      "execution_count": null,
      "outputs": [
        {
          "output_type": "stream",
          "name": "stdout",
          "text": [
            "3\n"
          ]
        }
      ]
    },
    {
      "cell_type": "markdown",
      "source": [
        "Q10. Concatenate Strings Without + Operator"
      ],
      "metadata": {
        "id": "06vtgKbY6zGa"
      }
    },
    {
      "cell_type": "code",
      "source": [
        "def concat_strings(s1, s2):\n",
        "    return \"{}{}\".format(s1, s2)\n",
        "\n",
        "print(concat_strings(\"Hello\", \"World\"))  # \"HelloWorld\""
      ],
      "metadata": {
        "colab": {
          "base_uri": "https://localhost:8080/"
        },
        "id": "P4vTsCEm61Xt",
        "outputId": "0be2aa41-e16d-442e-8e7a-431d23682762"
      },
      "execution_count": null,
      "outputs": [
        {
          "output_type": "stream",
          "name": "stdout",
          "text": [
            "HelloWorld\n"
          ]
        }
      ]
    },
    {
      "cell_type": "markdown",
      "source": [
        "Q11. Remove All Occurrences of an Element from List"
      ],
      "metadata": {
        "id": "g6AwaWuV61pv"
      }
    },
    {
      "cell_type": "code",
      "source": [
        "def remove_element(lst, elem):\n",
        "    return [x for x in lst if x != elem]\n",
        "\n",
        "print(remove_element([1, 2, 3, 2, 4, 2, 5], 2))  # [1, 3, 4, 5]"
      ],
      "metadata": {
        "colab": {
          "base_uri": "https://localhost:8080/"
        },
        "id": "LrmQZ14u65N2",
        "outputId": "f85500ed-ffc9-408b-f8e4-05a1ff3622ab"
      },
      "execution_count": null,
      "outputs": [
        {
          "output_type": "stream",
          "name": "stdout",
          "text": [
            "[1, 3, 4, 5]\n"
          ]
        }
      ]
    },
    {
      "cell_type": "markdown",
      "source": [
        "Q12. Find the Second Largest Number in a List"
      ],
      "metadata": {
        "id": "FFJKFajv65dc"
      }
    },
    {
      "cell_type": "code",
      "source": [
        "def second_largest(lst):\n",
        "    unique_sorted = sorted(set(lst), reverse=True)\n",
        "    return unique_sorted[1] if len(unique_sorted) > 1 else None\n",
        "\n",
        "print(second_largest([10, 20, 4, 45, 99]))  # 45"
      ],
      "metadata": {
        "colab": {
          "base_uri": "https://localhost:8080/"
        },
        "id": "hwhH0zhR68hE",
        "outputId": "f2504aae-6eee-4e88-db66-948778dd7ee1"
      },
      "execution_count": null,
      "outputs": [
        {
          "output_type": "stream",
          "name": "stdout",
          "text": [
            "45\n"
          ]
        }
      ]
    },
    {
      "cell_type": "markdown",
      "source": [
        "Q13. Count Occurrences of Each Element in a List"
      ],
      "metadata": {
        "id": "RlSdznXS6809"
      }
    },
    {
      "cell_type": "code",
      "source": [
        "def count_occurrences(lst):\n",
        "    freq = {}\n",
        "    for item in lst:\n",
        "        freq[item] = freq.get(item, 0) + 1\n",
        "    return freq\n",
        "\n",
        "print(count_occurrences([1, 2, 2, 3, 3, 3]))\n",
        "# {1: 1, 2: 2, 3: 3}"
      ],
      "metadata": {
        "colab": {
          "base_uri": "https://localhost:8080/"
        },
        "id": "Kbw1xD6472Ge",
        "outputId": "3b56a339-9334-43ea-e403-934059b8bd78"
      },
      "execution_count": null,
      "outputs": [
        {
          "output_type": "stream",
          "name": "stdout",
          "text": [
            "{1: 1, 2: 2, 3: 3}\n"
          ]
        }
      ]
    },
    {
      "cell_type": "markdown",
      "source": [
        "Q14. Reverse a List In-Place (Without Built-in Reverse)"
      ],
      "metadata": {
        "id": "t24dk70S72WN"
      }
    },
    {
      "cell_type": "code",
      "source": [
        "def reverse_list(lst):\n",
        "    left, right = 0, len(lst) - 1\n",
        "    while left < right:\n",
        "        lst[left], lst[right] = lst[right], lst[left]\n",
        "        left += 1\n",
        "        right -= 1\n",
        "    return lst\n",
        "\n",
        "print(reverse_list([1, 2, 3, 4, 5]))\n",
        "# [5, 4, 3, 2, 1]"
      ],
      "metadata": {
        "colab": {
          "base_uri": "https://localhost:8080/"
        },
        "id": "a1EMnfKg76Im",
        "outputId": "236d21bc-7a89-4652-9034-d40410fcb671"
      },
      "execution_count": null,
      "outputs": [
        {
          "output_type": "stream",
          "name": "stdout",
          "text": [
            "[5, 4, 3, 2, 1]\n"
          ]
        }
      ]
    },
    {
      "cell_type": "markdown",
      "source": [
        "Q15. Remove Duplicates from List (Preserve Order)"
      ],
      "metadata": {
        "id": "ysnRdhcr76T1"
      }
    },
    {
      "cell_type": "code",
      "source": [
        "def remove_duplicates(lst):\n",
        "    seen = set()\n",
        "    result = []\n",
        "    for item in lst:\n",
        "        if item not in seen:\n",
        "            result.append(item)\n",
        "            seen.add(item)\n",
        "    return result\n",
        "\n",
        "print(remove_duplicates([1, 2, 2, 3, 4, 3, 5]))\n",
        "# [1, 2, 3, 4, 5]"
      ],
      "metadata": {
        "colab": {
          "base_uri": "https://localhost:8080/"
        },
        "id": "008VKAzl79Ib",
        "outputId": "7766e035-2c53-487c-cdca-6bef916d6901"
      },
      "execution_count": null,
      "outputs": [
        {
          "output_type": "stream",
          "name": "stdout",
          "text": [
            "[1, 2, 3, 4, 5]\n"
          ]
        }
      ]
    },
    {
      "cell_type": "markdown",
      "source": [
        "Q16. Check if List is Sorted (Ascending or Descending)"
      ],
      "metadata": {
        "id": "jFzbrCbF79fG"
      }
    },
    {
      "cell_type": "code",
      "source": [
        "def is_sorted(lst):\n",
        "    return lst == sorted(lst) or lst == sorted(lst, reverse=True)\n",
        "\n",
        "print(is_sorted([1, 2, 3, 4]))      # True (ascending)\n",
        "print(is_sorted([5, 4, 3, 2]))      # True (descending)\n",
        "print(is_sorted([1, 3, 2]))         # False"
      ],
      "metadata": {
        "colab": {
          "base_uri": "https://localhost:8080/"
        },
        "id": "gukt-pcs8yMg",
        "outputId": "b4c78987-796b-4681-a7d2-08a9dd0dfbf0"
      },
      "execution_count": null,
      "outputs": [
        {
          "output_type": "stream",
          "name": "stdout",
          "text": [
            "True\n",
            "True\n",
            "False\n"
          ]
        }
      ]
    },
    {
      "cell_type": "markdown",
      "source": [
        "Q17. Merge Two Sorted Lists into One"
      ],
      "metadata": {
        "id": "W55DB5-c8AQD"
      }
    },
    {
      "cell_type": "code",
      "source": [
        "def merge_sorted_lists(l1, l2):\n",
        "    i = j = 0\n",
        "    merged = []\n",
        "    while i < len(l1) and j < len(l2):\n",
        "        if l1[i] < l2[j]:\n",
        "            merged.append(l1[i])\n",
        "            i += 1\n",
        "        else:\n",
        "            merged.append(l2[j])\n",
        "            j += 1\n",
        "    merged.extend(l1[i:])\n",
        "    merged.extend(l2[j:])\n",
        "    return merged\n",
        "\n",
        "print(merge_sorted_lists([1, 3, 5], [2, 4, 6]))\n",
        "# [1, 2, 3, 4, 5, 6]"
      ],
      "metadata": {
        "colab": {
          "base_uri": "https://localhost:8080/"
        },
        "id": "Yfk6OMs-83yC",
        "outputId": "a3618731-73a3-4b61-d055-b14ad98b963b"
      },
      "execution_count": null,
      "outputs": [
        {
          "output_type": "stream",
          "name": "stdout",
          "text": [
            "[1, 2, 3, 4, 5, 6]\n"
          ]
        }
      ]
    },
    {
      "cell_type": "markdown",
      "source": [
        "Q18. Intersection of Two Lists"
      ],
      "metadata": {
        "id": "zqjwIYZT8DH5"
      }
    },
    {
      "cell_type": "code",
      "source": [
        "def list_intersection(l1, l2):\n",
        "    return list(set(l1) & set(l2))\n",
        "\n",
        "print(list_intersection([1, 2, 3], [2, 3, 4]))\n",
        "# [2, 3]"
      ],
      "metadata": {
        "colab": {
          "base_uri": "https://localhost:8080/"
        },
        "id": "uOjlnnMC8KIO",
        "outputId": "1aaff09b-e109-4c42-f827-52d1b1debcb3"
      },
      "execution_count": null,
      "outputs": [
        {
          "output_type": "stream",
          "name": "stdout",
          "text": [
            "[2, 3]\n"
          ]
        }
      ]
    },
    {
      "cell_type": "markdown",
      "source": [
        "\n",
        "Q19. Union of Two Lists Without Duplicates"
      ],
      "metadata": {
        "id": "4t_f8_IH8KVO"
      }
    },
    {
      "cell_type": "code",
      "source": [
        "def list_union(l1, l2):\n",
        "    return list(set(l1) | set(l2))\n",
        "\n",
        "print(list_union([1, 2, 3], [3, 4, 5]))\n",
        "# [1, 2, 3, 4, 5]"
      ],
      "metadata": {
        "colab": {
          "base_uri": "https://localhost:8080/"
        },
        "id": "igsTJD8l8S0a",
        "outputId": "ea24902d-eba7-443c-e348-d3d89c5706bb"
      },
      "execution_count": null,
      "outputs": [
        {
          "output_type": "stream",
          "name": "stdout",
          "text": [
            "[1, 2, 3, 4, 5]\n"
          ]
        }
      ]
    },
    {
      "cell_type": "markdown",
      "source": [
        "Q20. Shuffle List Without Built-in Shuffle"
      ],
      "metadata": {
        "id": "y9rr8Wd18TAA"
      }
    },
    {
      "cell_type": "code",
      "source": [
        "import random\n",
        "\n",
        "def custom_shuffle(lst):\n",
        "    for i in range(len(lst)-1, 0, -1):\n",
        "        j = random.randint(0, i)\n",
        "        lst[i], lst[j] = lst[j], lst[i]\n",
        "    return lst\n",
        "\n",
        "print(custom_shuffle([1, 2, 3, 4, 5]))\n",
        "# Output varies (e.g., [3, 5, 1, 4, 2])"
      ],
      "metadata": {
        "colab": {
          "base_uri": "https://localhost:8080/"
        },
        "id": "tL68Xx_D8VW6",
        "outputId": "fc8b2cb6-6f28-4358-f2c1-6c8caccc9afd"
      },
      "execution_count": null,
      "outputs": [
        {
          "output_type": "stream",
          "name": "stdout",
          "text": [
            "[4, 3, 1, 5, 2]\n"
          ]
        }
      ]
    },
    {
      "cell_type": "markdown",
      "source": [
        "Q21. Common Elements in Two Tuples"
      ],
      "metadata": {
        "id": "YQboCcdz8Vf3"
      }
    },
    {
      "cell_type": "code",
      "source": [
        "def common_elements(t1, t2):\n",
        "    return tuple(set(t1) & set(t2))\n",
        "\n",
        "print(common_elements((1, 2, 3, 4), (3, 4, 5, 6)))\n",
        "# (3, 4)"
      ],
      "metadata": {
        "colab": {
          "base_uri": "https://localhost:8080/"
        },
        "id": "tF7ysABB8X9w",
        "outputId": "bf034666-91f7-4fd1-d464-83d93f3766c3"
      },
      "execution_count": null,
      "outputs": [
        {
          "output_type": "stream",
          "name": "stdout",
          "text": [
            "(3, 4)\n"
          ]
        }
      ]
    },
    {
      "cell_type": "markdown",
      "source": [
        "Q22. User Input → Two Sets Intersection"
      ],
      "metadata": {
        "id": "FJXd4YQa8YHV"
      }
    },
    {
      "cell_type": "code",
      "source": [
        "def sets_intersection():\n",
        "    s1 = set(map(int, input(\"Enter first set (comma separated): \").split(',')))\n",
        "    s2 = set(map(int, input(\"Enter second set (comma separated): \").split(',')))\n",
        "    print(\"Intersection:\", s1 & s2)\n",
        "\n",
        "# Example input:\n",
        "# Enter first set (comma separated): 1,2,3,4\n",
        "# Enter second set (comma separated): 3,4,5,6\n",
        "# Output → Intersection: {3, 4}"
      ],
      "metadata": {
        "id": "IKMzBnmV8aZ9"
      },
      "execution_count": null,
      "outputs": []
    },
    {
      "cell_type": "markdown",
      "source": [
        "Q23. Concatenate Two Tuples"
      ],
      "metadata": {
        "id": "QmISx6hV8aj1"
      }
    },
    {
      "cell_type": "code",
      "source": [
        "def concat_tuples(t1, t2):\n",
        "    return t1 + t2\n",
        "\n",
        "print(concat_tuples((1, 2), (3, 4)))\n",
        "# (1, 2, 3, 4)"
      ],
      "metadata": {
        "colab": {
          "base_uri": "https://localhost:8080/"
        },
        "id": "j_vpCt-08dZK",
        "outputId": "222bcb1c-a40f-4b3e-f980-3d35df2ce54e"
      },
      "execution_count": null,
      "outputs": [
        {
          "output_type": "stream",
          "name": "stdout",
          "text": [
            "(1, 2, 3, 4)\n"
          ]
        }
      ]
    }
  ]
}